{
  "nbformat": 4,
  "nbformat_minor": 0,
  "metadata": {
    "colab": {
      "name": "WasteSegregation_model.ipynb",
      "provenance": [],
      "authorship_tag": "ABX9TyNjHRJzmWqSkMQeiDnpt8Tz"
    },
    "kernelspec": {
      "name": "python3",
      "display_name": "Python 3"
    },
    "language_info": {
      "name": "python"
    },
    "accelerator": "GPU"
  },
  "cells": [
    {
      "cell_type": "code",
      "execution_count": null,
      "metadata": {
        "colab": {
          "base_uri": "https://localhost:8080/"
        },
        "id": "CC0d6XkGdhgd",
        "outputId": "a16a386b-a70f-4096-beb8-6e3a4c7be977"
      },
      "outputs": [
        {
          "output_type": "stream",
          "name": "stdout",
          "text": [
            "Mounted at /content/drive\n"
          ]
        }
      ],
      "source": [
        "from google.colab import drive\n",
        "drive.mount(\"/content/drive\")"
      ]
    },
    {
      "cell_type": "code",
      "source": [
        "import zipfile\n",
        "import os\n",
        "\n",
        "zip_ref = zipfile.ZipFile(\"/content/drive/MyDrive/Capstone C22-PC414/AllMainData.zip\", \"r\")\n",
        "zip_ref.extractall(\"/tmp\")\n",
        "zip_ref.close()"
      ],
      "metadata": {
        "id": "Ud11hYPRe4Y5"
      },
      "execution_count": null,
      "outputs": []
    },
    {
      "cell_type": "code",
      "source": [
        "import tensorflow as tf\n",
        "import numpy as np\n",
        "import matplotlib.pyplot as plt\n",
        "from tensorflow.keras.preprocessing.image import ImageDataGenerator"
      ],
      "metadata": {
        "id": "U2h05BxefcoZ"
      },
      "execution_count": null,
      "outputs": []
    },
    {
      "cell_type": "code",
      "source": [
        "TRAIN_DIR = \"/tmp/AllMainData/TRAIN\"\n",
        "VAL_DIR  = \"/tmp/AllMainData/VAL\""
      ],
      "metadata": {
        "id": "pUkVFBGqfsBp"
      },
      "execution_count": null,
      "outputs": []
    },
    {
      "cell_type": "code",
      "source": [
        "train_datagen = ImageDataGenerator(rescale = 1./255., rotation_range = 40, width_shift_range = 0.2, height_shift_range = 0.2, shear_range = 0.2, zoom_range = 0.2, horizontal_flip = True)\n",
        "\n",
        "# Pass in the appropriate arguments to the flow_from_directory method\n",
        "train_generator = train_datagen.flow_from_directory(directory=TRAIN_DIR,\n",
        "                                    batch_size=32, \n",
        "                                    class_mode=\"binary\",\n",
        "                                    target_size=(224, 224))\n",
        "\n",
        "# Instantiate the ImageDataGenerator class (don't forget to set the rescale argument)\n",
        "# Remember that validation data should not be augmented\n",
        "validation_datagen = ImageDataGenerator(rescale = 1./255.)\n",
        "\n",
        "# Pass in the appropriate arguments to the flow_from_directory method\n",
        "validation_generator = validation_datagen.flow_from_directory(directory=VAL_DIR,\n",
        "                                            batch_size=32, \n",
        "                                            class_mode=\"binary\",\n",
        "                                            target_size=(224, 224))"
      ],
      "metadata": {
        "colab": {
          "base_uri": "https://localhost:8080/"
        },
        "id": "i07ePm2XfvoE",
        "outputId": "d7e06c85-0d6e-473d-c161-b0f9fb046711"
      },
      "execution_count": null,
      "outputs": [
        {
          "output_type": "stream",
          "name": "stdout",
          "text": [
            "Found 31523 images belonging to 3 classes.\n",
            "Found 6423 images belonging to 3 classes.\n"
          ]
        }
      ]
    },
    {
      "cell_type": "code",
      "source": [
        "model = tf.keras.models.Sequential([ \n",
        "    tf.keras.layers.Conv2D(32, (3, 3), activation = \"relu\", input_shape = (224, 224, 3)),\n",
        "    tf.keras.layers.MaxPooling2D(2, 2),\n",
        "    tf.keras.layers.Conv2D(64, (3, 3), activation = \"relu\"),\n",
        "    tf.keras.layers.MaxPooling2D(2, 2),\n",
        "    tf.keras.layers.Conv2D(64, (3, 3), activation = \"relu\"),\n",
        "    tf.keras.layers.MaxPooling2D(2, 2),\n",
        "\n",
        "    tf.keras.layers.Flatten(),\n",
        "    tf.keras.layers.Dense(512, activation = \"relu\"),\n",
        "    tf.keras.layers.Dense(3, activation = \"softmax\")\n",
        "])\n",
        "\n",
        "\n",
        "model.compile(optimizer=\"adam\",\n",
        "            loss=\"sparse_categorical_crossentropy\",\n",
        "            metrics=['accuracy']) "
      ],
      "metadata": {
        "id": "Cs2mamVZf33e"
      },
      "execution_count": null,
      "outputs": []
    },
    {
      "cell_type": "code",
      "source": [
        "history = model.fit(train_generator,\n",
        "                    epochs=3,\n",
        "                    batch_size = 100,\n",
        "                    verbose=1,\n",
        "                    validation_data=validation_generator)"
      ],
      "metadata": {
        "colab": {
          "base_uri": "https://localhost:8080/"
        },
        "id": "_W6B1c_gf7L2",
        "outputId": "4f3e88a5-9433-4cd9-c62e-d92f87660d1f"
      },
      "execution_count": null,
      "outputs": [
        {
          "output_type": "stream",
          "name": "stdout",
          "text": [
            "Epoch 1/3\n",
            "986/986 [==============================] - 587s 582ms/step - loss: 0.8474 - accuracy: 0.6298 - val_loss: 0.8009 - val_accuracy: 0.6125\n",
            "Epoch 2/3\n",
            "986/986 [==============================] - 564s 572ms/step - loss: 0.7309 - accuracy: 0.6791 - val_loss: 0.8257 - val_accuracy: 0.5940\n",
            "Epoch 3/3\n",
            "986/986 [==============================] - 547s 555ms/step - loss: 0.6952 - accuracy: 0.6978 - val_loss: 0.6666 - val_accuracy: 0.6844\n"
          ]
        }
      ]
    },
    {
      "cell_type": "code",
      "source": [
        "#-----------------------------------------------------------\n",
        "# Retrieve a list of list results on training and test data\n",
        "# sets for each training epoch\n",
        "#-----------------------------------------------------------\n",
        "acc=history.history['accuracy']\n",
        "val_acc=history.history['val_accuracy']\n",
        "loss=history.history['loss']\n",
        "val_loss=history.history['val_loss']\n",
        "\n",
        "epochs=range(len(acc)) # Get number of epochs\n",
        "\n",
        "#------------------------------------------------\n",
        "# Plot training and validation accuracy per epoch\n",
        "#------------------------------------------------\n",
        "plt.plot(epochs, acc, 'r', \"Training Accuracy\")\n",
        "plt.plot(epochs, val_acc, 'b', \"Validation Accuracy\")\n",
        "plt.title('Training and validation accuracy')\n",
        "plt.show()\n",
        "print(\"\")\n",
        "\n",
        "#------------------------------------------------\n",
        "# Plot training and validation loss per epoch\n",
        "#------------------------------------------------\n",
        "plt.plot(epochs, loss, 'r', \"Training Loss\")\n",
        "plt.plot(epochs, val_loss, 'b', \"Validation Loss\")\n",
        "plt.show()"
      ],
      "metadata": {
        "colab": {
          "base_uri": "https://localhost:8080/",
          "height": 546
        },
        "id": "wtQL1URLf831",
        "outputId": "7afe8bc9-537b-4a54-a4bb-2eb6c8259ce7"
      },
      "execution_count": null,
      "outputs": [
        {
          "output_type": "display_data",
          "data": {
            "text/plain": [
              "<Figure size 432x288 with 1 Axes>"
            ],
            "image/png": "[encoded data removed]"
          },
          "metadata": {
            "needs_background": "light"
          }
        },
        {
          "output_type": "stream",
          "name": "stdout",
          "text": [
            "\n"
          ]
        },
        {
          "output_type": "display_data",
          "data": {
            "text/plain": [
              "<Figure size 432x288 with 1 Axes>"
            ],
            "image/png": "[encoded data removed]"
          },
          "metadata": {
            "needs_background": "light"
          }
        }
      ]
    }
  ]
}